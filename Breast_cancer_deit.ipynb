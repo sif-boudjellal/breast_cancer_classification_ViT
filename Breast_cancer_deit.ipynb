{
  "cells": [
    {
      "cell_type": "code",
      "execution_count": null,
      "id": "0934191f",
      "metadata": {
        "_cell_guid": "b1076dfc-b9ad-4769-8c92-a6c4dae69d19",
        "_uuid": "8f2839f25d086af736a60e9eeb907d3b93b6e0e5",
        "execution": {
          "iopub.execute_input": "2022-02-06T17:47:29.873033Z",
          "iopub.status.busy": "2022-02-06T17:47:29.871457Z",
          "iopub.status.idle": "2022-02-06T17:47:29.882014Z",
          "shell.execute_reply": "2022-02-06T17:47:29.881470Z",
          "shell.execute_reply.started": "2022-01-31T22:34:58.122958Z"
        },
        "papermill": {
          "duration": 0.036849,
          "end_time": "2022-02-06T17:47:29.882149",
          "exception": false,
          "start_time": "2022-02-06T17:47:29.845300",
          "status": "completed"
        },
        "tags": [],
        "id": "0934191f"
      },
      "outputs": [],
      "source": [
        "\n",
        "import numpy as np # linear algebra\n",
        "import pandas as pd # data processing, CSV file I/O (e.g. pd.read_csv)\n",
        "import os\n",
        "import shutil"
      ]
    },
    {
      "cell_type": "code",
      "source": [
        "!nvidia-smi"
      ],
      "metadata": {
        "colab": {
          "base_uri": "https://localhost:8080/"
        },
        "id": "x1Ymj0Zz9FPW",
        "outputId": "11a0d8fe-6c7e-40c2-b404-a6d32d2d3425"
      },
      "id": "x1Ymj0Zz9FPW",
      "execution_count": null,
      "outputs": [
        {
          "output_type": "stream",
          "name": "stdout",
          "text": [
            "Tue May 17 12:19:14 2022       \n",
            "+-----------------------------------------------------------------------------+\n",
            "| NVIDIA-SMI 460.32.03    Driver Version: 460.32.03    CUDA Version: 11.2     |\n",
            "|-------------------------------+----------------------+----------------------+\n",
            "| GPU  Name        Persistence-M| Bus-Id        Disp.A | Volatile Uncorr. ECC |\n",
            "| Fan  Temp  Perf  Pwr:Usage/Cap|         Memory-Usage | GPU-Util  Compute M. |\n",
            "|                               |                      |               MIG M. |\n",
            "|===============================+======================+======================|\n",
            "|   0  Tesla T4            Off  | 00000000:00:04.0 Off |                    0 |\n",
            "| N/A   61C    P8    10W /  70W |      0MiB / 15109MiB |      0%      Default |\n",
            "|                               |                      |                  N/A |\n",
            "+-------------------------------+----------------------+----------------------+\n",
            "                                                                               \n",
            "+-----------------------------------------------------------------------------+\n",
            "| Processes:                                                                  |\n",
            "|  GPU   GI   CI        PID   Type   Process name                  GPU Memory |\n",
            "|        ID   ID                                                   Usage      |\n",
            "|=============================================================================|\n",
            "|  No running processes found                                                 |\n",
            "+-----------------------------------------------------------------------------+\n"
          ]
        }
      ]
    },
    {
      "cell_type": "code",
      "source": [
        "!wget https://www.inf.ufpr.br/vri/databases/BreaKHis_v1.tar.gz"
      ],
      "metadata": {
        "id": "kbE8AaQuWWTF",
        "colab": {
          "base_uri": "https://localhost:8080/"
        },
        "outputId": "d42031c7-3930-4260-8b9c-3fff045fbd90"
      },
      "id": "kbE8AaQuWWTF",
      "execution_count": null,
      "outputs": [
        {
          "output_type": "stream",
          "name": "stdout",
          "text": [
            "--2022-05-17 12:19:21--  https://www.inf.ufpr.br/vri/databases/BreaKHis_v1.tar.gz\n",
            "Resolving www.inf.ufpr.br (www.inf.ufpr.br)... 200.17.202.113, 2801:82:80ff:8001:216:ccff:feaa:79\n",
            "Connecting to www.inf.ufpr.br (www.inf.ufpr.br)|200.17.202.113|:443... connected.\n",
            "HTTP request sent, awaiting response... 200 OK\n",
            "Length: 4273561758 (4.0G) [application/octet-stream]\n",
            "Saving to: ‘BreaKHis_v1.tar.gz’\n",
            "\n",
            "BreaKHis_v1.tar.gz  100%[===================>]   3.98G  14.0MB/s    in 5m 5s   \n",
            "\n",
            "2022-05-17 12:24:27 (13.4 MB/s) - ‘BreaKHis_v1.tar.gz’ saved [4273561758/4273561758]\n",
            "\n"
          ]
        }
      ]
    },
    {
      "cell_type": "code",
      "source": [
        "os.makedirs('/content/output/')\n",
        "os.makedirs('/content/dataset/')\n",
        "\n",
        "os.makedirs('/content/dataset/benign/')\n",
        "os.makedirs('/content/dataset/malignant/')"
      ],
      "metadata": {
        "id": "r-lmxVx05ZRx"
      },
      "id": "r-lmxVx05ZRx",
      "execution_count": null,
      "outputs": []
    },
    {
      "cell_type": "code",
      "source": [
        "!tar -xzvf \"/content/BreaKHis_v1.tar.gz\" -C \"/content/output/\""
      ],
      "metadata": {
        "id": "-WjLL3aCXCUe"
      },
      "id": "-WjLL3aCXCUe",
      "execution_count": null,
      "outputs": []
    },
    {
      "cell_type": "code",
      "source": [
        "mali_path= '/content/output/BreaKHis_v1/histology_slides/breast/malignant/'\n",
        "ben_path= '/content/output/BreaKHis_v1/histology_slides/breast/benign/'\n",
        "\n",
        "for dirname, _, filenames in os.walk(ben_path):\n",
        "  for filename in filenames:\n",
        "    i= filename.split('.')\n",
        "    if i[-1] =='png':\n",
        "      original= os.path.join(dirname, filename)\n",
        "      target= os.path.join('/content/dataset/benign/', filename)\n",
        "      shutil.copyfile(original, target)\n",
        "\n",
        "for dirname, _, filenames in os.walk(mali_path):\n",
        "  for filename in filenames:\n",
        "    i= filename.split('.')\n",
        "    if i[-1] =='png':\n",
        "      original= os.path.join(dirname, filename)\n",
        "      target= os.path.join('/content/dataset/malignant/', filename)\n",
        "      shutil.copyfile(original, target)"
      ],
      "metadata": {
        "id": "kNotdozGnkT5"
      },
      "id": "kNotdozGnkT5",
      "execution_count": null,
      "outputs": []
    },
    {
      "cell_type": "code",
      "execution_count": null,
      "id": "35d183a0",
      "metadata": {
        "execution": {
          "iopub.execute_input": "2022-02-06T17:47:29.928813Z",
          "iopub.status.busy": "2022-02-06T17:47:29.928084Z",
          "iopub.status.idle": "2022-02-06T17:47:40.444764Z",
          "shell.execute_reply": "2022-02-06T17:47:40.444258Z",
          "shell.execute_reply.started": "2022-01-31T22:35:50.411078Z"
        },
        "papermill": {
          "duration": 10.541347,
          "end_time": "2022-02-06T17:47:40.444895",
          "exception": false,
          "start_time": "2022-02-06T17:47:29.903548",
          "status": "completed"
        },
        "tags": [],
        "id": "35d183a0"
      },
      "outputs": [],
      "source": [
        "!pip install timm"
      ]
    },
    {
      "cell_type": "code",
      "execution_count": null,
      "id": "7827ab33",
      "metadata": {
        "execution": {
          "iopub.execute_input": "2022-02-06T17:47:40.497984Z",
          "iopub.status.busy": "2022-02-06T17:47:40.497091Z",
          "iopub.status.idle": "2022-02-06T17:47:42.896056Z",
          "shell.execute_reply": "2022-02-06T17:47:42.896587Z",
          "shell.execute_reply.started": "2022-01-31T22:36:00.303154Z"
        },
        "papermill": {
          "duration": 2.427403,
          "end_time": "2022-02-06T17:47:42.896751",
          "exception": false,
          "start_time": "2022-02-06T17:47:40.469348",
          "status": "completed"
        },
        "tags": [],
        "id": "7827ab33"
      },
      "outputs": [],
      "source": [
        "import torch\n",
        "from torch import nn, optim\n",
        "import timm"
      ]
    },
    {
      "cell_type": "code",
      "execution_count": null,
      "id": "c45a139f",
      "metadata": {
        "colab": {
          "base_uri": "https://localhost:8080/"
        },
        "id": "c45a139f",
        "outputId": "d4f211e9-274a-47f6-f6b4-44672277dd08"
      },
      "outputs": [
        {
          "output_type": "execute_result",
          "data": {
            "text/plain": [
              "[]"
            ]
          },
          "metadata": {},
          "execution_count": 9
        }
      ],
      "source": [
        "timm.list_models('mobilevit_xs',pretrained=True)"
      ]
    },
    {
      "cell_type": "code",
      "execution_count": null,
      "id": "9f012d15",
      "metadata": {
        "execution": {
          "iopub.execute_input": "2022-02-06T17:47:42.951127Z",
          "iopub.status.busy": "2022-02-06T17:47:42.949568Z",
          "iopub.status.idle": "2022-02-06T17:47:42.951750Z",
          "shell.execute_reply": "2022-02-06T17:47:42.952140Z",
          "shell.execute_reply.started": "2022-01-31T22:36:02.663593Z"
        },
        "papermill": {
          "duration": 0.031219,
          "end_time": "2022-02-06T17:47:42.952299",
          "exception": false,
          "start_time": "2022-02-06T17:47:42.921080",
          "status": "completed"
        },
        "tags": [],
        "id": "9f012d15"
      },
      "outputs": [],
      "source": [
        "import torchvision\n",
        "from torchvision import datasets, transforms\n",
        "from torch.nn import functional as F\n",
        "from torch.utils.data import DataLoader, sampler, random_split\n",
        "from sklearn.metrics import f1_score, confusion_matrix , classification_report\n",
        "import matplotlib.pyplot as plt\n",
        "import seaborn as sns"
      ]
    },
    {
      "cell_type": "code",
      "execution_count": null,
      "id": "542f1627",
      "metadata": {
        "execution": {
          "iopub.execute_input": "2022-02-06T17:47:43.007313Z",
          "iopub.status.busy": "2022-02-06T17:47:43.006656Z",
          "iopub.status.idle": "2022-02-06T17:47:43.009614Z",
          "shell.execute_reply": "2022-02-06T17:47:43.010007Z",
          "shell.execute_reply.started": "2022-01-31T22:36:02.67478Z"
        },
        "papermill": {
          "duration": 0.033638,
          "end_time": "2022-02-06T17:47:43.010147",
          "exception": false,
          "start_time": "2022-02-06T17:47:42.976509",
          "status": "completed"
        },
        "tags": [],
        "id": "542f1627",
        "outputId": "050068e7-c851-4146-c000-93464556b59d",
        "colab": {
          "base_uri": "https://localhost:8080/"
        }
      },
      "outputs": [
        {
          "output_type": "execute_result",
          "data": {
            "text/plain": [
              "('0.12.0+cu113', '1.11.0+cu113')"
            ]
          },
          "metadata": {},
          "execution_count": 10
        }
      ],
      "source": [
        "torchvision.__version__, torch.__version__ # ('0.11.1+cu111', '1.10.0+cu111')"
      ]
    },
    {
      "cell_type": "code",
      "execution_count": null,
      "id": "b161bd08",
      "metadata": {
        "execution": {
          "iopub.execute_input": "2022-02-06T17:47:43.061823Z",
          "iopub.status.busy": "2022-02-06T17:47:43.061303Z",
          "iopub.status.idle": "2022-02-06T17:47:43.064694Z",
          "shell.execute_reply": "2022-02-06T17:47:43.064139Z",
          "shell.execute_reply.started": "2022-01-31T22:36:02.68522Z"
        },
        "papermill": {
          "duration": 0.030739,
          "end_time": "2022-02-06T17:47:43.064809",
          "exception": false,
          "start_time": "2022-02-06T17:47:43.034070",
          "status": "completed"
        },
        "tags": [],
        "id": "b161bd08"
      },
      "outputs": [],
      "source": [
        "import warnings\n",
        "warnings.filterwarnings(\"ignore\")"
      ]
    },
    {
      "cell_type": "code",
      "execution_count": null,
      "id": "b33c8ff2",
      "metadata": {
        "execution": {
          "iopub.execute_input": "2022-02-06T17:47:43.182294Z",
          "iopub.status.busy": "2022-02-06T17:47:43.180727Z",
          "iopub.status.idle": "2022-02-06T17:47:43.182906Z",
          "shell.execute_reply": "2022-02-06T17:47:43.183329Z",
          "shell.execute_reply.started": "2022-01-31T22:36:02.699588Z"
        },
        "papermill": {
          "duration": 0.038348,
          "end_time": "2022-02-06T17:47:43.183475",
          "exception": false,
          "start_time": "2022-02-06T17:47:43.145127",
          "status": "completed"
        },
        "tags": [],
        "id": "b33c8ff2"
      },
      "outputs": [],
      "source": [
        "def get_data_loaders(data_dir, batch_size, train = False):\n",
        "    if train:\n",
        "        transform = transforms.Compose([\n",
        "            transforms.RandomHorizontalFlip(),\n",
        "            transforms.RandomVerticalFlip(),\n",
        "            transforms.RandomApply(transforms=[\n",
        "                transforms.GaussianBlur(kernel_size=(5, 9), sigma=(0.1, 5))\n",
        "            ], p=0.2),\n",
        "            transforms.Resize(256),\n",
        "            transforms.CenterCrop(224),\n",
        "            transforms.ToTensor(),\n",
        "            transforms.Normalize((0.485, 0.456, 0.406), (0.229, 0.224, 0.225)),\n",
        "        ])\n",
        "        all_data = datasets.ImageFolder(data_dir, transform=transform)\n",
        "        train_data_len = int(len(all_data)*0.75)\n",
        "        valid_data_len = int((len(all_data) - train_data_len)/2)\n",
        "        test_data_len = int(len(all_data) - train_data_len - valid_data_len)\n",
        "        train_data, val_data, test_data = random_split(all_data, [train_data_len, valid_data_len, test_data_len])\n",
        "        train_loader = DataLoader(train_data, batch_size=batch_size, shuffle=True, num_workers=4)\n",
        "        return train_loader, train_data_len\n",
        "    \n",
        "    else:\n",
        "        transform = transforms.Compose([\n",
        "            transforms.Resize(256),\n",
        "            transforms.CenterCrop(224),\n",
        "            transforms.ToTensor(),\n",
        "            transforms.Normalize((0.485, 0.456, 0.406), (0.229, 0.224, 0.225)),\n",
        "        ])\n",
        "        all_data = datasets.ImageFolder(data_dir, transform=transform)\n",
        "        train_data_len = int(len(all_data)*0.70)\n",
        "        valid_data_len = int((len(all_data) - train_data_len)/2)\n",
        "        test_data_len = int(len(all_data) - train_data_len - valid_data_len)\n",
        "        train_data, val_data, test_data = random_split(all_data, [train_data_len, valid_data_len, test_data_len])\n",
        "        val_loader = DataLoader(val_data, batch_size=batch_size, shuffle=True, num_workers=4)\n",
        "        test_loader = DataLoader(test_data, batch_size=batch_size, shuffle=True, num_workers=4)\n",
        "        return (val_loader, test_loader, valid_data_len, test_data_len)"
      ]
    },
    {
      "cell_type": "code",
      "execution_count": null,
      "id": "c9029dcf",
      "metadata": {
        "execution": {
          "iopub.execute_input": "2022-02-06T17:47:43.236289Z",
          "iopub.status.busy": "2022-02-06T17:47:43.235474Z",
          "iopub.status.idle": "2022-02-06T17:47:43.237229Z",
          "shell.execute_reply": "2022-02-06T17:47:43.237688Z",
          "shell.execute_reply.started": "2022-01-31T22:36:02.714601Z"
        },
        "papermill": {
          "duration": 0.029794,
          "end_time": "2022-02-06T17:47:43.237810",
          "exception": false,
          "start_time": "2022-02-06T17:47:43.208016",
          "status": "completed"
        },
        "tags": [],
        "id": "c9029dcf"
      },
      "outputs": [],
      "source": [
        "def get_classes(data_dir):\n",
        "    all_data = datasets.ImageFolder(data_dir)\n",
        "    return all_data.classes"
      ]
    },
    {
      "cell_type": "code",
      "source": [
        "data= '/content/dataset/'"
      ],
      "metadata": {
        "id": "2EJrsamL74Fg"
      },
      "id": "2EJrsamL74Fg",
      "execution_count": null,
      "outputs": []
    },
    {
      "cell_type": "code",
      "execution_count": null,
      "id": "39238b44",
      "metadata": {
        "execution": {
          "iopub.execute_input": "2022-02-06T17:47:43.290404Z",
          "iopub.status.busy": "2022-02-06T17:47:43.289846Z",
          "iopub.status.idle": "2022-02-06T17:47:44.250554Z",
          "shell.execute_reply": "2022-02-06T17:47:44.250991Z",
          "shell.execute_reply.started": "2022-01-31T22:36:02.72454Z"
        },
        "papermill": {
          "duration": 0.989428,
          "end_time": "2022-02-06T17:47:44.251157",
          "exception": false,
          "start_time": "2022-02-06T17:47:43.261729",
          "status": "completed"
        },
        "tags": [],
        "id": "39238b44"
      },
      "outputs": [],
      "source": [
        "(train_loader, train_data_len) = get_data_loaders(data, 64, train=True)\n",
        "(val_loader, test_loader, valid_data_len, test_data_len) = get_data_loaders(data , 64, train=False)\n",
        "classes = get_classes(data)"
      ]
    },
    {
      "cell_type": "code",
      "execution_count": null,
      "id": "48888d10",
      "metadata": {
        "execution": {
          "iopub.execute_input": "2022-02-06T17:47:44.304471Z",
          "iopub.status.busy": "2022-02-06T17:47:44.303852Z",
          "iopub.status.idle": "2022-02-06T17:47:44.306531Z",
          "shell.execute_reply": "2022-02-06T17:47:44.306939Z",
          "shell.execute_reply.started": "2022-01-31T22:36:04.896849Z"
        },
        "papermill": {
          "duration": 0.031309,
          "end_time": "2022-02-06T17:47:44.307070",
          "exception": false,
          "start_time": "2022-02-06T17:47:44.275761",
          "status": "completed"
        },
        "tags": [],
        "id": "48888d10",
        "outputId": "e75cf54c-50e5-4683-e67e-98c7c3b969fe",
        "colab": {
          "base_uri": "https://localhost:8080/"
        }
      },
      "outputs": [
        {
          "output_type": "stream",
          "name": "stdout",
          "text": [
            "2\n"
          ]
        }
      ],
      "source": [
        "print(len(classes))"
      ]
    },
    {
      "cell_type": "code",
      "execution_count": null,
      "id": "8f1adb81",
      "metadata": {
        "execution": {
          "iopub.execute_input": "2022-02-06T17:47:44.359434Z",
          "iopub.status.busy": "2022-02-06T17:47:44.358882Z",
          "iopub.status.idle": "2022-02-06T17:47:44.362590Z",
          "shell.execute_reply": "2022-02-06T17:47:44.362122Z",
          "shell.execute_reply.started": "2022-01-31T22:36:04.903371Z"
        },
        "papermill": {
          "duration": 0.031436,
          "end_time": "2022-02-06T17:47:44.362696",
          "exception": false,
          "start_time": "2022-02-06T17:47:44.331260",
          "status": "completed"
        },
        "tags": [],
        "id": "8f1adb81"
      },
      "outputs": [],
      "source": [
        "dataloaders = {\n",
        "    \"train\":train_loader,\n",
        "    \"val\": val_loader\n",
        "}\n",
        "dataset_sizes = {\n",
        "    \"train\":train_data_len,\n",
        "    \"val\": valid_data_len\n",
        "}"
      ]
    },
    {
      "cell_type": "code",
      "execution_count": null,
      "id": "91328f07",
      "metadata": {
        "execution": {
          "iopub.execute_input": "2022-02-06T17:47:44.416025Z",
          "iopub.status.busy": "2022-02-06T17:47:44.415349Z",
          "iopub.status.idle": "2022-02-06T17:47:44.418625Z",
          "shell.execute_reply": "2022-02-06T17:47:44.418090Z",
          "shell.execute_reply.started": "2022-01-31T22:36:04.913813Z"
        },
        "papermill": {
          "duration": 0.031784,
          "end_time": "2022-02-06T17:47:44.418730",
          "exception": false,
          "start_time": "2022-02-06T17:47:44.386946",
          "status": "completed"
        },
        "tags": [],
        "id": "91328f07",
        "outputId": "cfe9838b-949c-4f60-8a15-2b1f2c25658e",
        "colab": {
          "base_uri": "https://localhost:8080/"
        }
      },
      "outputs": [
        {
          "output_type": "stream",
          "name": "stdout",
          "text": [
            "93\n",
            "19\n",
            "19\n",
            "5931 1187 1186\n"
          ]
        }
      ],
      "source": [
        "print(len(train_loader))\n",
        "print(len(val_loader))\n",
        "print(len(test_loader))\n",
        "print(train_data_len, test_data_len, valid_data_len)"
      ]
    },
    {
      "cell_type": "code",
      "execution_count": null,
      "id": "c763a4be",
      "metadata": {
        "execution": {
          "iopub.execute_input": "2022-02-06T17:47:44.471632Z",
          "iopub.status.busy": "2022-02-06T17:47:44.470842Z",
          "iopub.status.idle": "2022-02-06T17:47:49.842136Z",
          "shell.execute_reply": "2022-02-06T17:47:49.841690Z",
          "shell.execute_reply.started": "2022-01-31T22:37:34.687924Z"
        },
        "papermill": {
          "duration": 5.399193,
          "end_time": "2022-02-06T17:47:49.842290",
          "exception": false,
          "start_time": "2022-02-06T17:47:44.443097",
          "status": "completed"
        },
        "tags": [],
        "id": "c763a4be",
        "colab": {
          "base_uri": "https://localhost:8080/"
        },
        "outputId": "bbe59994-4487-41aa-dd30-66670ac54fe5"
      },
      "outputs": [
        {
          "output_type": "stream",
          "name": "stderr",
          "text": [
            "Downloading: \"https://dl.fbaipublicfiles.com/deit/deit_tiny_patch16_224-a1311bcf.pth\" to /root/.cache/torch/hub/checkpoints/deit_tiny_patch16_224-a1311bcf.pth\n"
          ]
        }
      ],
      "source": [
        " #model =torch.hub.load('facebookresearch/deit:main', 'deit_tiny_patch16_224', pretrained=True)\n",
        "model =timm.create_model('deit_tiny_patch16_224',pretrained=True)"
      ]
    },
    {
      "cell_type": "code",
      "execution_count": null,
      "id": "73f470ec",
      "metadata": {
        "execution": {
          "iopub.execute_input": "2022-02-06T17:47:49.900112Z",
          "iopub.status.busy": "2022-02-06T17:47:49.899341Z",
          "iopub.status.idle": "2022-02-06T17:47:49.906288Z",
          "shell.execute_reply": "2022-02-06T17:47:49.905741Z",
          "shell.execute_reply.started": "2022-01-31T22:37:34.835316Z"
        },
        "papermill": {
          "duration": 0.038342,
          "end_time": "2022-02-06T17:47:49.906404",
          "exception": false,
          "start_time": "2022-02-06T17:47:49.868062",
          "status": "completed"
        },
        "tags": [],
        "id": "73f470ec",
        "outputId": "89cf19e9-cdc5-46e5-8825-0e8bed3c555b",
        "colab": {
          "base_uri": "https://localhost:8080/"
        }
      },
      "outputs": [
        {
          "output_type": "stream",
          "name": "stdout",
          "text": [
            "Sequential(\n",
            "  (0): Linear(in_features=192, out_features=512, bias=True)\n",
            "  (1): SiLU()\n",
            "  (2): Dropout(p=0.3, inplace=False)\n",
            "  (3): Linear(in_features=512, out_features=2, bias=True)\n",
            ")\n"
          ]
        }
      ],
      "source": [
        "for param in model.parameters():\n",
        "    param.requires_grad = False\n",
        "    \n",
        "n_inputs = model.head.in_features\n",
        "model.head = nn.Sequential(\n",
        "    nn.Linear(n_inputs,512),\n",
        "    nn.SiLU(),\n",
        "    nn.Dropout(0.3),\n",
        "    nn.Linear(512, len(classes))\n",
        ")\n",
        "print(model.head)"
      ]
    },
    {
      "cell_type": "code",
      "execution_count": null,
      "id": "b716c943",
      "metadata": {
        "execution": {
          "iopub.execute_input": "2022-02-06T17:47:49.963574Z",
          "iopub.status.busy": "2022-02-06T17:47:49.962842Z",
          "iopub.status.idle": "2022-02-06T17:47:50.082272Z",
          "shell.execute_reply": "2022-02-06T17:47:50.082712Z",
          "shell.execute_reply.started": "2022-01-31T22:37:36.37283Z"
        },
        "papermill": {
          "duration": 0.15059,
          "end_time": "2022-02-06T17:47:50.082860",
          "exception": false,
          "start_time": "2022-02-06T17:47:49.932270",
          "status": "completed"
        },
        "tags": [],
        "id": "b716c943",
        "outputId": "86e73195-8d38-49e5-a8c9-80fa293dcd73",
        "colab": {
          "base_uri": "https://localhost:8080/"
        }
      },
      "outputs": [
        {
          "output_type": "execute_result",
          "data": {
            "text/plain": [
              "torch.Size([1, 2])"
            ]
          },
          "metadata": {},
          "execution_count": 22
        }
      ],
      "source": [
        "inp = torch.randn(1, 3, 224, 224)\n",
        "model(inp).shape"
      ]
    },
    {
      "cell_type": "code",
      "execution_count": null,
      "id": "c5ed868c",
      "metadata": {
        "execution": {
          "iopub.execute_input": "2022-02-06T17:47:50.140478Z",
          "iopub.status.busy": "2022-02-06T17:47:50.139694Z",
          "iopub.status.idle": "2022-02-06T17:47:50.142036Z",
          "shell.execute_reply": "2022-02-06T17:47:50.141641Z",
          "shell.execute_reply.started": "2022-01-31T22:37:36.505142Z"
        },
        "papermill": {
          "duration": 0.032918,
          "end_time": "2022-02-06T17:47:50.142144",
          "exception": false,
          "start_time": "2022-02-06T17:47:50.109226",
          "status": "completed"
        },
        "tags": [],
        "id": "c5ed868c"
      },
      "outputs": [],
      "source": [
        "def print_size_of_model(model):\n",
        "    torch.save(model.state_dict(), \"temp.p\")\n",
        "    print('Size (MB):', os.path.getsize(\"temp.p\")/1e6)\n",
        "    os.remove('temp.p')"
      ]
    },
    {
      "cell_type": "code",
      "execution_count": null,
      "id": "8c323708",
      "metadata": {
        "execution": {
          "iopub.execute_input": "2022-02-06T17:47:50.197374Z",
          "iopub.status.busy": "2022-02-06T17:47:50.196588Z",
          "iopub.status.idle": "2022-02-06T17:47:50.236094Z",
          "shell.execute_reply": "2022-02-06T17:47:50.236520Z",
          "shell.execute_reply.started": "2022-01-31T22:37:36.95121Z"
        },
        "papermill": {
          "duration": 0.068508,
          "end_time": "2022-02-06T17:47:50.236677",
          "exception": false,
          "start_time": "2022-02-06T17:47:50.168169",
          "status": "completed"
        },
        "tags": [],
        "id": "8c323708",
        "outputId": "c0fc56cf-cfbf-4879-ca6b-33734ef09ae5",
        "colab": {
          "base_uri": "https://localhost:8080/"
        }
      },
      "outputs": [
        {
          "output_type": "stream",
          "name": "stdout",
          "text": [
            "Size (MB): 22.549389\n"
          ]
        }
      ],
      "source": [
        "print_size_of_model(model)"
      ]
    },
    {
      "cell_type": "code",
      "execution_count": null,
      "id": "59153655",
      "metadata": {
        "execution": {
          "iopub.execute_input": "2022-02-06T17:47:50.331635Z",
          "iopub.status.busy": "2022-02-06T17:47:50.330550Z",
          "iopub.status.idle": "2022-02-06T17:47:53.051983Z",
          "shell.execute_reply": "2022-02-06T17:47:53.052389Z",
          "shell.execute_reply.started": "2022-01-31T22:37:37.131512Z"
        },
        "papermill": {
          "duration": 2.788221,
          "end_time": "2022-02-06T17:47:53.052554",
          "exception": false,
          "start_time": "2022-02-06T17:47:50.264333",
          "status": "completed"
        },
        "tags": [],
        "id": "59153655",
        "outputId": "19df6be2-375f-46cc-8565-9f9acd6bbb66",
        "colab": {
          "base_uri": "https://localhost:8080/"
        }
      },
      "outputs": [
        {
          "output_type": "execute_result",
          "data": {
            "text/plain": [
              "device(type='cuda')"
            ]
          },
          "metadata": {},
          "execution_count": 25
        }
      ],
      "source": [
        "device = torch.device(\"cuda\" if torch.cuda.is_available() else 'cpu')\n",
        "model = model.to(device)\n",
        "device"
      ]
    },
    {
      "cell_type": "code",
      "execution_count": null,
      "id": "e1bfed0c",
      "metadata": {
        "execution": {
          "iopub.execute_input": "2022-02-06T17:47:53.111657Z",
          "iopub.status.busy": "2022-02-06T17:47:53.110890Z",
          "iopub.status.idle": "2022-02-06T17:47:53.113271Z",
          "shell.execute_reply": "2022-02-06T17:47:53.112861Z",
          "shell.execute_reply.started": "2022-01-31T22:38:29.83271Z"
        },
        "papermill": {
          "duration": 0.033623,
          "end_time": "2022-02-06T17:47:53.113403",
          "exception": false,
          "start_time": "2022-02-06T17:47:53.079780",
          "status": "completed"
        },
        "tags": [],
        "id": "e1bfed0c"
      },
      "outputs": [],
      "source": [
        "criterion = nn.CrossEntropyLoss()\n",
        "criterion = criterion.to(device)\n",
        "optimizer = optim.AdamW(model.head.parameters(), lr=0.001)"
      ]
    },
    {
      "cell_type": "code",
      "execution_count": null,
      "id": "a568f275",
      "metadata": {
        "execution": {
          "iopub.execute_input": "2022-02-06T17:47:53.171879Z",
          "iopub.status.busy": "2022-02-06T17:47:53.171157Z",
          "iopub.status.idle": "2022-02-06T17:47:53.174100Z",
          "shell.execute_reply": "2022-02-06T17:47:53.173658Z",
          "shell.execute_reply.started": "2022-01-31T22:38:30.005473Z"
        },
        "papermill": {
          "duration": 0.033726,
          "end_time": "2022-02-06T17:47:53.174231",
          "exception": false,
          "start_time": "2022-02-06T17:47:53.140505",
          "status": "completed"
        },
        "tags": [],
        "id": "a568f275"
      },
      "outputs": [],
      "source": [
        "training_history = {'accuracy':[],'loss':[]}\n",
        "validation_history = {'accuracy':[],'loss':[]}"
      ]
    },
    {
      "cell_type": "code",
      "execution_count": null,
      "id": "215ee7b7",
      "metadata": {
        "execution": {
          "iopub.execute_input": "2022-02-06T17:47:53.233143Z",
          "iopub.status.busy": "2022-02-06T17:47:53.232362Z",
          "iopub.status.idle": "2022-02-06T17:47:53.234327Z",
          "shell.execute_reply": "2022-02-06T17:47:53.234728Z",
          "shell.execute_reply.started": "2022-01-31T22:38:31.363741Z"
        },
        "papermill": {
          "duration": 0.033457,
          "end_time": "2022-02-06T17:47:53.234854",
          "exception": false,
          "start_time": "2022-02-06T17:47:53.201397",
          "status": "completed"
        },
        "tags": [],
        "id": "215ee7b7"
      },
      "outputs": [],
      "source": [
        "from tqdm import tqdm\n",
        "import time\n",
        "import copy"
      ]
    },
    {
      "cell_type": "code",
      "execution_count": null,
      "id": "02382b70",
      "metadata": {
        "execution": {
          "iopub.execute_input": "2022-02-06T17:47:53.295100Z",
          "iopub.status.busy": "2022-02-06T17:47:53.294173Z",
          "iopub.status.idle": "2022-02-06T17:47:53.296155Z",
          "shell.execute_reply": "2022-02-06T17:47:53.296720Z",
          "shell.execute_reply.started": "2022-01-31T22:38:31.497627Z"
        },
        "papermill": {
          "duration": 0.034626,
          "end_time": "2022-02-06T17:47:53.296860",
          "exception": false,
          "start_time": "2022-02-06T17:47:53.262234",
          "status": "completed"
        },
        "tags": [],
        "id": "02382b70"
      },
      "outputs": [],
      "source": [
        "exp_lr_scheduler = optim.lr_scheduler.StepLR(optimizer, step_size=4, gamma=0.7)"
      ]
    },
    {
      "cell_type": "code",
      "execution_count": null,
      "id": "82e045bb",
      "metadata": {
        "execution": {
          "iopub.execute_input": "2022-02-06T17:47:53.363718Z",
          "iopub.status.busy": "2022-02-06T17:47:53.362886Z",
          "iopub.status.idle": "2022-02-06T17:47:53.365424Z",
          "shell.execute_reply": "2022-02-06T17:47:53.364985Z",
          "shell.execute_reply.started": "2022-01-31T22:38:31.629885Z"
        },
        "papermill": {
          "duration": 0.041941,
          "end_time": "2022-02-06T17:47:53.365537",
          "exception": false,
          "start_time": "2022-02-06T17:47:53.323596",
          "status": "completed"
        },
        "tags": [],
        "id": "82e045bb"
      },
      "outputs": [],
      "source": [
        "def train_model(model, criterion, optimizer, scheduler, num_epochs=25):\n",
        "    since = time.time()\n",
        "\n",
        "    best_model_wts = copy.deepcopy(model.state_dict())\n",
        "    best_acc = 0.0\n",
        "\n",
        "    for epoch in range(num_epochs):\n",
        "        print('Epoch {}/{}'.format(epoch, num_epochs - 1))\n",
        "        print('-' * 10)\n",
        "\n",
        "        # Each epoch has a training and validation phase\n",
        "        for phase in ['train', 'val']:\n",
        "            if phase == 'train':\n",
        "                model.train()  # Set model to training mode\n",
        "            else:\n",
        "                model.eval()   # Set model to evaluate mode\n",
        "\n",
        "            running_loss = 0.0\n",
        "            running_corrects = 0\n",
        "\n",
        "            # Iterate over data.\n",
        "            for inputs, labels in tqdm(dataloaders[phase]):\n",
        "                inputs = inputs.to(device)\n",
        "                labels = labels.to(device)\n",
        "\n",
        "                # zero the parameter gradients\n",
        "                optimizer.zero_grad()\n",
        "\n",
        "                # forward\n",
        "                # track history if only in train\n",
        "                with torch.set_grad_enabled(phase == 'train'):\n",
        "                    outputs = model(inputs)\n",
        "                    _, preds = torch.max(outputs, 1)\n",
        "                    loss = criterion(outputs, labels)\n",
        "\n",
        "                    # backward + optimize only if in training phase\n",
        "                    if phase == 'train':\n",
        "                        loss.backward()\n",
        "                        optimizer.step()\n",
        "\n",
        "                # statistics\n",
        "                running_loss += loss.item() * inputs.size(0)\n",
        "                running_corrects += torch.sum(preds == labels.data)\n",
        "            if phase == 'train':\n",
        "                scheduler.step()\n",
        "\n",
        "            epoch_loss = running_loss / dataset_sizes[phase]\n",
        "            epoch_acc = running_corrects.double() / dataset_sizes[phase]\n",
        "            \n",
        "            if phase == 'train':\n",
        "                training_history['accuracy'].append(epoch_acc)\n",
        "                training_history['loss'].append(epoch_loss)\n",
        "            elif phase == 'val':\n",
        "                validation_history['accuracy'].append(epoch_acc)\n",
        "                validation_history['loss'].append(epoch_loss)\n",
        "\n",
        "            print('{} Loss: {:.4f} Acc: {:.4f}'.format(\n",
        "                phase, epoch_loss, epoch_acc))\n",
        "\n",
        "            # deep copy the model\n",
        "            if phase == 'val' and epoch_acc > best_acc:\n",
        "                best_acc = epoch_acc\n",
        "                best_model_wts = copy.deepcopy(model.state_dict())\n",
        "\n",
        "        print()\n",
        "\n",
        "    time_elapsed = time.time() - since\n",
        "    print('Training complete in {:.0f}m {:.0f}s'.format(\n",
        "        time_elapsed // 60, time_elapsed % 60))\n",
        "    print('Best val Acc: {:4f}'.format(best_acc))\n",
        "    \n",
        "    # load best model weights\n",
        "    model.load_state_dict(best_model_wts)\n",
        "    return model"
      ]
    },
    {
      "cell_type": "code",
      "execution_count": null,
      "id": "47b7ea51",
      "metadata": {
        "execution": {
          "iopub.execute_input": "2022-02-06T17:47:53.429959Z",
          "iopub.status.busy": "2022-02-06T17:47:53.426266Z",
          "iopub.status.idle": "2022-02-06T17:47:53.432368Z",
          "shell.execute_reply": "2022-02-06T17:47:53.431940Z",
          "shell.execute_reply.started": "2022-01-31T22:38:31.756689Z"
        },
        "papermill": {
          "duration": 0.040354,
          "end_time": "2022-02-06T17:47:53.432488",
          "exception": false,
          "start_time": "2022-02-06T17:47:53.392134",
          "status": "completed"
        },
        "tags": [],
        "id": "47b7ea51"
      },
      "outputs": [],
      "source": [
        "def test(model):\n",
        "  test_loss = 0.0\n",
        "  class_correct = list(0. for i in range(len(classes)))\n",
        "  class_total = list(0. for i in range(len(classes)))\n",
        "\n",
        "  model.eval()\n",
        "\n",
        "  for data, target in tqdm(test_loader):\n",
        "      if torch.cuda.is_available(): \n",
        "          data, target = data.cuda(), target.cuda()\n",
        "      with torch.no_grad():\n",
        "        output = model(data)\n",
        "        loss = criterion(output, target)\n",
        "      test_loss += loss.item()*data.size(0)\n",
        "      _, pred = torch.max(output, 1)    \n",
        "      correct_tensor = pred.eq(target.data.view_as(pred))\n",
        "      correct = np.squeeze(correct_tensor.numpy()) if not torch.cuda.is_available() else np.squeeze(correct_tensor.cpu().numpy())\n",
        "      if len(target) == 64:\n",
        "        for i in range(64):\n",
        "            label = target.data[i]\n",
        "            class_correct[label] += correct[i].item()\n",
        "            class_total[label] += 1\n",
        "\n",
        "  test_loss = test_loss/len(test_loader.dataset)\n",
        "  print('Test Loss: {:.6f}\\n'.format(test_loss))\n",
        "\n",
        "  for i in range(len(classes)):\n",
        "      if class_total[i] > 0:\n",
        "          print('Test Accuracy of %5s: %2d%% (%2d/%2d)' % (\n",
        "              classes[i], 100 * class_correct[i] / class_total[i],\n",
        "              np.sum(class_correct[i]), np.sum(class_total[i])))\n",
        "      else:\n",
        "          print('Test Accuracy of %5s: N/A (no training examples)' % (classes[i]))\n",
        "\n",
        "  print('\\nTest Accuracy (Overall): {:.4f} ({}/{})'.format(\n",
        "      100. * np.sum(class_correct) / np.sum(class_total),\n",
        "      np.sum(class_correct), np.sum(class_total)))"
      ]
    },
    {
      "cell_type": "code",
      "execution_count": null,
      "id": "ac997f2b",
      "metadata": {
        "execution": {
          "iopub.execute_input": "2022-02-06T17:47:53.490157Z",
          "iopub.status.busy": "2022-02-06T17:47:53.489401Z",
          "iopub.status.idle": "2022-02-06T17:49:51.402098Z",
          "shell.execute_reply": "2022-02-06T17:49:51.402677Z",
          "shell.execute_reply.started": "2022-01-31T22:38:32.466879Z"
        },
        "papermill": {
          "duration": 117.943948,
          "end_time": "2022-02-06T17:49:51.402920",
          "exception": false,
          "start_time": "2022-02-06T17:47:53.458972",
          "status": "completed"
        },
        "tags": [],
        "id": "ac997f2b",
        "outputId": "5df9e67d-df19-42c6-9c2e-30ac564840b5",
        "colab": {
          "base_uri": "https://localhost:8080/"
        }
      },
      "outputs": [
        {
          "output_type": "stream",
          "name": "stdout",
          "text": [
            "Epoch 0/19\n",
            "----------\n"
          ]
        },
        {
          "output_type": "stream",
          "name": "stderr",
          "text": [
            "100%|██████████| 93/93 [01:50<00:00,  1.19s/it]\n"
          ]
        },
        {
          "output_type": "stream",
          "name": "stdout",
          "text": [
            "train Loss: 0.3874 Acc: 0.8341\n"
          ]
        },
        {
          "output_type": "stream",
          "name": "stderr",
          "text": [
            "100%|██████████| 19/19 [00:15<00:00,  1.19it/s]\n"
          ]
        },
        {
          "output_type": "stream",
          "name": "stdout",
          "text": [
            "val Loss: 0.2980 Acc: 0.8853\n",
            "\n",
            "Epoch 1/19\n",
            "----------\n"
          ]
        },
        {
          "output_type": "stream",
          "name": "stderr",
          "text": [
            "100%|██████████| 93/93 [01:47<00:00,  1.16s/it]\n"
          ]
        },
        {
          "output_type": "stream",
          "name": "stdout",
          "text": [
            "train Loss: 0.3082 Acc: 0.8767\n"
          ]
        },
        {
          "output_type": "stream",
          "name": "stderr",
          "text": [
            "100%|██████████| 19/19 [00:15<00:00,  1.21it/s]\n"
          ]
        },
        {
          "output_type": "stream",
          "name": "stdout",
          "text": [
            "val Loss: 0.2608 Acc: 0.8980\n",
            "\n",
            "Epoch 2/19\n",
            "----------\n"
          ]
        },
        {
          "output_type": "stream",
          "name": "stderr",
          "text": [
            "100%|██████████| 93/93 [01:46<00:00,  1.14s/it]\n"
          ]
        },
        {
          "output_type": "stream",
          "name": "stdout",
          "text": [
            "train Loss: 0.2745 Acc: 0.8891\n"
          ]
        },
        {
          "output_type": "stream",
          "name": "stderr",
          "text": [
            "100%|██████████| 19/19 [00:15<00:00,  1.22it/s]\n"
          ]
        },
        {
          "output_type": "stream",
          "name": "stdout",
          "text": [
            "val Loss: 0.2450 Acc: 0.9056\n",
            "\n",
            "Epoch 3/19\n",
            "----------\n"
          ]
        },
        {
          "output_type": "stream",
          "name": "stderr",
          "text": [
            "100%|██████████| 93/93 [01:45<00:00,  1.14s/it]\n"
          ]
        },
        {
          "output_type": "stream",
          "name": "stdout",
          "text": [
            "train Loss: 0.2458 Acc: 0.9012\n"
          ]
        },
        {
          "output_type": "stream",
          "name": "stderr",
          "text": [
            "100%|██████████| 19/19 [00:15<00:00,  1.21it/s]\n"
          ]
        },
        {
          "output_type": "stream",
          "name": "stdout",
          "text": [
            "val Loss: 0.2237 Acc: 0.9140\n",
            "\n",
            "Epoch 4/19\n",
            "----------\n"
          ]
        },
        {
          "output_type": "stream",
          "name": "stderr",
          "text": [
            "100%|██████████| 93/93 [01:45<00:00,  1.13s/it]\n"
          ]
        },
        {
          "output_type": "stream",
          "name": "stdout",
          "text": [
            "train Loss: 0.2176 Acc: 0.9157\n"
          ]
        },
        {
          "output_type": "stream",
          "name": "stderr",
          "text": [
            "100%|██████████| 19/19 [00:15<00:00,  1.23it/s]\n"
          ]
        },
        {
          "output_type": "stream",
          "name": "stdout",
          "text": [
            "val Loss: 0.2012 Acc: 0.9275\n",
            "\n",
            "Epoch 5/19\n",
            "----------\n"
          ]
        },
        {
          "output_type": "stream",
          "name": "stderr",
          "text": [
            "100%|██████████| 93/93 [01:45<00:00,  1.14s/it]\n"
          ]
        },
        {
          "output_type": "stream",
          "name": "stdout",
          "text": [
            "train Loss: 0.2016 Acc: 0.9223\n"
          ]
        },
        {
          "output_type": "stream",
          "name": "stderr",
          "text": [
            "100%|██████████| 19/19 [00:15<00:00,  1.23it/s]\n"
          ]
        },
        {
          "output_type": "stream",
          "name": "stdout",
          "text": [
            "val Loss: 0.1676 Acc: 0.9342\n",
            "\n",
            "Epoch 6/19\n",
            "----------\n"
          ]
        },
        {
          "output_type": "stream",
          "name": "stderr",
          "text": [
            "100%|██████████| 93/93 [01:43<00:00,  1.11s/it]\n"
          ]
        },
        {
          "output_type": "stream",
          "name": "stdout",
          "text": [
            "train Loss: 0.1889 Acc: 0.9260\n"
          ]
        },
        {
          "output_type": "stream",
          "name": "stderr",
          "text": [
            "100%|██████████| 19/19 [00:15<00:00,  1.23it/s]\n"
          ]
        },
        {
          "output_type": "stream",
          "name": "stdout",
          "text": [
            "val Loss: 0.1849 Acc: 0.9283\n",
            "\n",
            "Epoch 7/19\n",
            "----------\n"
          ]
        },
        {
          "output_type": "stream",
          "name": "stderr",
          "text": [
            "100%|██████████| 93/93 [01:44<00:00,  1.12s/it]\n"
          ]
        },
        {
          "output_type": "stream",
          "name": "stdout",
          "text": [
            "train Loss: 0.1790 Acc: 0.9310\n"
          ]
        },
        {
          "output_type": "stream",
          "name": "stderr",
          "text": [
            "100%|██████████| 19/19 [00:15<00:00,  1.24it/s]\n"
          ]
        },
        {
          "output_type": "stream",
          "name": "stdout",
          "text": [
            "val Loss: 0.1599 Acc: 0.9427\n",
            "\n",
            "Epoch 8/19\n",
            "----------\n"
          ]
        },
        {
          "output_type": "stream",
          "name": "stderr",
          "text": [
            "100%|██████████| 93/93 [01:44<00:00,  1.12s/it]\n"
          ]
        },
        {
          "output_type": "stream",
          "name": "stdout",
          "text": [
            "train Loss: 0.1632 Acc: 0.9374\n"
          ]
        },
        {
          "output_type": "stream",
          "name": "stderr",
          "text": [
            "100%|██████████| 19/19 [00:15<00:00,  1.23it/s]\n"
          ]
        },
        {
          "output_type": "stream",
          "name": "stdout",
          "text": [
            "val Loss: 0.1436 Acc: 0.9545\n",
            "\n",
            "Epoch 9/19\n",
            "----------\n"
          ]
        },
        {
          "output_type": "stream",
          "name": "stderr",
          "text": [
            "100%|██████████| 93/93 [01:47<00:00,  1.15s/it]\n"
          ]
        },
        {
          "output_type": "stream",
          "name": "stdout",
          "text": [
            "train Loss: 0.1514 Acc: 0.9403\n"
          ]
        },
        {
          "output_type": "stream",
          "name": "stderr",
          "text": [
            "100%|██████████| 19/19 [00:15<00:00,  1.22it/s]\n"
          ]
        },
        {
          "output_type": "stream",
          "name": "stdout",
          "text": [
            "val Loss: 0.1510 Acc: 0.9477\n",
            "\n",
            "Epoch 10/19\n",
            "----------\n"
          ]
        },
        {
          "output_type": "stream",
          "name": "stderr",
          "text": [
            "100%|██████████| 93/93 [01:44<00:00,  1.12s/it]\n"
          ]
        },
        {
          "output_type": "stream",
          "name": "stdout",
          "text": [
            "train Loss: 0.1512 Acc: 0.9425\n"
          ]
        },
        {
          "output_type": "stream",
          "name": "stderr",
          "text": [
            "100%|██████████| 19/19 [00:15<00:00,  1.22it/s]\n"
          ]
        },
        {
          "output_type": "stream",
          "name": "stdout",
          "text": [
            "val Loss: 0.1383 Acc: 0.9519\n",
            "\n",
            "Epoch 11/19\n",
            "----------\n"
          ]
        },
        {
          "output_type": "stream",
          "name": "stderr",
          "text": [
            "100%|██████████| 93/93 [01:44<00:00,  1.13s/it]\n"
          ]
        },
        {
          "output_type": "stream",
          "name": "stdout",
          "text": [
            "train Loss: 0.1442 Acc: 0.9472\n"
          ]
        },
        {
          "output_type": "stream",
          "name": "stderr",
          "text": [
            "100%|██████████| 19/19 [00:16<00:00,  1.18it/s]\n"
          ]
        },
        {
          "output_type": "stream",
          "name": "stdout",
          "text": [
            "val Loss: 0.1229 Acc: 0.9578\n",
            "\n",
            "Epoch 12/19\n",
            "----------\n"
          ]
        },
        {
          "output_type": "stream",
          "name": "stderr",
          "text": [
            "100%|██████████| 93/93 [01:47<00:00,  1.15s/it]\n"
          ]
        },
        {
          "output_type": "stream",
          "name": "stdout",
          "text": [
            "train Loss: 0.1355 Acc: 0.9508\n"
          ]
        },
        {
          "output_type": "stream",
          "name": "stderr",
          "text": [
            "100%|██████████| 19/19 [00:15<00:00,  1.19it/s]\n"
          ]
        },
        {
          "output_type": "stream",
          "name": "stdout",
          "text": [
            "val Loss: 0.1231 Acc: 0.9587\n",
            "\n",
            "Epoch 13/19\n",
            "----------\n"
          ]
        },
        {
          "output_type": "stream",
          "name": "stderr",
          "text": [
            "100%|██████████| 93/93 [01:48<00:00,  1.17s/it]\n"
          ]
        },
        {
          "output_type": "stream",
          "name": "stdout",
          "text": [
            "train Loss: 0.1246 Acc: 0.9552\n"
          ]
        },
        {
          "output_type": "stream",
          "name": "stderr",
          "text": [
            "100%|██████████| 19/19 [00:16<00:00,  1.19it/s]\n"
          ]
        },
        {
          "output_type": "stream",
          "name": "stdout",
          "text": [
            "val Loss: 0.1200 Acc: 0.9587\n",
            "\n",
            "Epoch 14/19\n",
            "----------\n"
          ]
        },
        {
          "output_type": "stream",
          "name": "stderr",
          "text": [
            "100%|██████████| 93/93 [01:44<00:00,  1.13s/it]\n"
          ]
        },
        {
          "output_type": "stream",
          "name": "stdout",
          "text": [
            "train Loss: 0.1228 Acc: 0.9526\n"
          ]
        },
        {
          "output_type": "stream",
          "name": "stderr",
          "text": [
            "100%|██████████| 19/19 [00:15<00:00,  1.21it/s]\n"
          ]
        },
        {
          "output_type": "stream",
          "name": "stdout",
          "text": [
            "val Loss: 0.1125 Acc: 0.9621\n",
            "\n",
            "Epoch 15/19\n",
            "----------\n"
          ]
        },
        {
          "output_type": "stream",
          "name": "stderr",
          "text": [
            "100%|██████████| 93/93 [01:47<00:00,  1.16s/it]\n"
          ]
        },
        {
          "output_type": "stream",
          "name": "stdout",
          "text": [
            "train Loss: 0.1109 Acc: 0.9604\n"
          ]
        },
        {
          "output_type": "stream",
          "name": "stderr",
          "text": [
            "100%|██████████| 19/19 [00:15<00:00,  1.20it/s]\n"
          ]
        },
        {
          "output_type": "stream",
          "name": "stdout",
          "text": [
            "val Loss: 0.1149 Acc: 0.9612\n",
            "\n",
            "Epoch 16/19\n",
            "----------\n"
          ]
        },
        {
          "output_type": "stream",
          "name": "stderr",
          "text": [
            "100%|██████████| 93/93 [01:46<00:00,  1.15s/it]\n"
          ]
        },
        {
          "output_type": "stream",
          "name": "stdout",
          "text": [
            "train Loss: 0.1184 Acc: 0.9553\n"
          ]
        },
        {
          "output_type": "stream",
          "name": "stderr",
          "text": [
            "100%|██████████| 19/19 [00:15<00:00,  1.21it/s]\n"
          ]
        },
        {
          "output_type": "stream",
          "name": "stdout",
          "text": [
            "val Loss: 0.1095 Acc: 0.9637\n",
            "\n",
            "Epoch 17/19\n",
            "----------\n"
          ]
        },
        {
          "output_type": "stream",
          "name": "stderr",
          "text": [
            "100%|██████████| 93/93 [01:44<00:00,  1.13s/it]\n"
          ]
        },
        {
          "output_type": "stream",
          "name": "stdout",
          "text": [
            "train Loss: 0.1134 Acc: 0.9609\n"
          ]
        },
        {
          "output_type": "stream",
          "name": "stderr",
          "text": [
            "100%|██████████| 19/19 [00:15<00:00,  1.20it/s]\n"
          ]
        },
        {
          "output_type": "stream",
          "name": "stdout",
          "text": [
            "val Loss: 0.1071 Acc: 0.9654\n",
            "\n",
            "Epoch 18/19\n",
            "----------\n"
          ]
        },
        {
          "output_type": "stream",
          "name": "stderr",
          "text": [
            "100%|██████████| 93/93 [01:45<00:00,  1.14s/it]\n"
          ]
        },
        {
          "output_type": "stream",
          "name": "stdout",
          "text": [
            "train Loss: 0.1059 Acc: 0.9621\n"
          ]
        },
        {
          "output_type": "stream",
          "name": "stderr",
          "text": [
            "100%|██████████| 19/19 [00:15<00:00,  1.21it/s]\n"
          ]
        },
        {
          "output_type": "stream",
          "name": "stdout",
          "text": [
            "val Loss: 0.1041 Acc: 0.9646\n",
            "\n",
            "Epoch 19/19\n",
            "----------\n"
          ]
        },
        {
          "output_type": "stream",
          "name": "stderr",
          "text": [
            "100%|██████████| 93/93 [01:44<00:00,  1.12s/it]\n"
          ]
        },
        {
          "output_type": "stream",
          "name": "stdout",
          "text": [
            "train Loss: 0.1035 Acc: 0.9641\n"
          ]
        },
        {
          "output_type": "stream",
          "name": "stderr",
          "text": [
            "100%|██████████| 19/19 [00:15<00:00,  1.22it/s]"
          ]
        },
        {
          "output_type": "stream",
          "name": "stdout",
          "text": [
            "val Loss: 0.1086 Acc: 0.9578\n",
            "\n",
            "Training complete in 40m 34s\n",
            "Best val Acc: 0.965430\n"
          ]
        },
        {
          "output_type": "stream",
          "name": "stderr",
          "text": [
            "\n"
          ]
        }
      ],
      "source": [
        "model_ft = train_model(model, criterion, optimizer, exp_lr_scheduler,\n",
        "                       num_epochs=20)"
      ]
    },
    {
      "cell_type": "code",
      "execution_count": null,
      "id": "ada10502",
      "metadata": {
        "id": "ada10502"
      },
      "outputs": [],
      "source": [
        "def plot_loss(training_history,validation_history,EPOCHS):\n",
        "    acc = []\n",
        "    val_acc = []\n",
        "    for i in  training_history['accuracy']:\n",
        "        acc.append(i.cpu().numpy())\n",
        "    for i in  validation_history['accuracy']:\n",
        "        val_acc.append(i.cpu().numpy())\n",
        "    loss =  training_history['loss']\n",
        "    val_loss = validation_history['loss']\n",
        "    plt.figure(figsize=(8, 8))\n",
        "    plt.subplot(1, 2, 1)\n",
        "    plt.plot(range(EPOCHS), acc, label='Training Accuracy')\n",
        "    plt.plot(range(EPOCHS), val_acc, label='Validation Accuracy')\n",
        "    plt.legend(loc='lower right')\n",
        "    plt.title('Training and Validation Accuracy')\n",
        "    plt.subplot(1, 2, 2)\n",
        "    plt.plot(range(EPOCHS), loss, label='Training Loss')\n",
        "    plt.plot(range(EPOCHS), val_loss, label='Validation Loss')\n",
        "    plt.legend(loc='upper right')\n",
        "    plt.title('Training and Validation Loss')\n",
        "    plt.show()"
      ]
    },
    {
      "cell_type": "code",
      "execution_count": null,
      "id": "ac0e243f",
      "metadata": {
        "id": "ac0e243f",
        "outputId": "01c30d41-f7ab-4521-8947-c6f8d7822d2b",
        "colab": {
          "base_uri": "https://localhost:8080/",
          "height": 499
        }
      },
      "outputs": [
        {
          "output_type": "display_data",
          "data": {
            "text/plain": [
              "<Figure size 576x576 with 2 Axes>"
            ],
            "image/png": "[encoded data removed]"
          },
          "metadata": {
            "needs_background": "light"
          }
        }
      ],
      "source": [
        "plot_loss(training_history,validation_history,20)"
      ]
    },
    {
      "cell_type": "code",
      "execution_count": null,
      "id": "0764a65f",
      "metadata": {
        "execution": {
          "iopub.execute_input": "2022-02-06T17:49:51.677671Z",
          "iopub.status.busy": "2022-02-06T17:49:51.676725Z",
          "iopub.status.idle": "2022-02-06T17:49:54.783604Z",
          "shell.execute_reply": "2022-02-06T17:49:54.783015Z",
          "shell.execute_reply.started": "2022-01-31T22:41:24.371763Z"
        },
        "papermill": {
          "duration": 3.242984,
          "end_time": "2022-02-06T17:49:54.783735",
          "exception": false,
          "start_time": "2022-02-06T17:49:51.540751",
          "status": "completed"
        },
        "tags": [],
        "id": "0764a65f",
        "outputId": "c79ad897-0de6-4cbb-ff92-a452ef9e7486",
        "colab": {
          "base_uri": "https://localhost:8080/"
        }
      },
      "outputs": [
        {
          "output_type": "stream",
          "name": "stderr",
          "text": [
            "100%|██████████| 19/19 [00:15<00:00,  1.20it/s]"
          ]
        },
        {
          "output_type": "stream",
          "name": "stdout",
          "text": [
            "Test Loss: 0.112623\n",
            "\n",
            "Test Accuracy of benign: 96% (370/382)\n",
            "Test Accuracy of malignant: 97% (747/770)\n",
            "\n",
            "Test Accuracy (Overall): 96.9618 (1117.0/1152.0)\n"
          ]
        },
        {
          "output_type": "stream",
          "name": "stderr",
          "text": [
            "\n"
          ]
        }
      ],
      "source": [
        "test(model_ft)"
      ]
    },
    {
      "cell_type": "code",
      "execution_count": null,
      "id": "85d291ce",
      "metadata": {
        "execution": {
          "iopub.execute_input": "2022-02-06T17:49:56.338650Z",
          "iopub.status.busy": "2022-02-06T17:49:56.336972Z",
          "iopub.status.idle": "2022-02-06T17:49:56.339353Z",
          "shell.execute_reply": "2022-02-06T17:49:56.339880Z",
          "shell.execute_reply.started": "2022-01-31T22:46:06.116935Z"
        },
        "papermill": {
          "duration": 0.1863,
          "end_time": "2022-02-06T17:49:56.340033",
          "exception": false,
          "start_time": "2022-02-06T17:49:56.153733",
          "status": "completed"
        },
        "tags": [],
        "id": "85d291ce"
      },
      "outputs": [],
      "source": [
        "def plot_onfusion_matrix(model):\n",
        "    y_pred = []\n",
        "    y_true = []\n",
        "    model.eval()\n",
        "    for data, target in tqdm(test_loader):\n",
        "        y_true = y_true + target.tolist()\n",
        "        if torch.cuda.is_available(): \n",
        "            data, target = data.cuda(), target.cuda()\n",
        "        with torch.no_grad():\n",
        "            output = model(data)\n",
        "            loss = criterion(output, target)\n",
        "            _, pred = torch.max(output, 1)\n",
        "            y_pred = y_pred + pred.tolist()\n",
        "    cm = confusion_matrix(y_true, y_pred)\n",
        "    plt.figure(figsize=(8, 8))\n",
        "    sns.heatmap(cm, annot=True, cmap = 'Blues')\n",
        "    plt.title('Confusion matrix - ')\n",
        "    plt.ylabel('Actual')\n",
        "    plt.xlabel('Predicted')\n",
        "    plt.show()\n",
        "    print(classification_report(y_true, y_pred))\n",
        "    print(\"Micro F1: {:.4f}\".format(f1_score(y_true, y_pred, average='micro') * 100))\n",
        "    print(\"Macro F1: {:.4f}\".format(f1_score(y_true, y_pred, average='macro') * 100))\n",
        "    print(\"Weighted F1: {:.4f}\".format(f1_score(y_true, y_pred, average='weighted') * 100))"
      ]
    },
    {
      "cell_type": "code",
      "execution_count": null,
      "id": "d85277e0",
      "metadata": {
        "execution": {
          "iopub.execute_input": "2022-02-06T17:49:56.628760Z",
          "iopub.status.busy": "2022-02-06T17:49:56.627773Z",
          "iopub.status.idle": "2022-02-06T17:49:59.595137Z",
          "shell.execute_reply": "2022-02-06T17:49:59.595608Z",
          "shell.execute_reply.started": "2022-01-31T22:46:06.218865Z"
        },
        "papermill": {
          "duration": 3.109119,
          "end_time": "2022-02-06T17:49:59.595762",
          "exception": false,
          "start_time": "2022-02-06T17:49:56.486643",
          "status": "completed"
        },
        "tags": [],
        "id": "d85277e0",
        "outputId": "60c70f96-efd8-4bad-bfcc-898134fbd400",
        "colab": {
          "base_uri": "https://localhost:8080/",
          "height": 739
        }
      },
      "outputs": [
        {
          "output_type": "stream",
          "name": "stderr",
          "text": [
            "100%|██████████| 19/19 [00:15<00:00,  1.21it/s]\n"
          ]
        },
        {
          "output_type": "display_data",
          "data": {
            "text/plain": [
              "<Figure size 576x576 with 2 Axes>"
            ],
            "image/png": "[encoded data removed]"
          },
          "metadata": {
            "needs_background": "light"
          }
        },
        {
          "output_type": "stream",
          "name": "stdout",
          "text": [
            "              precision    recall  f1-score   support\n",
            "\n",
            "           0       0.94      0.97      0.95       392\n",
            "           1       0.98      0.97      0.98       795\n",
            "\n",
            "    accuracy                           0.97      1187\n",
            "   macro avg       0.96      0.97      0.97      1187\n",
            "weighted avg       0.97      0.97      0.97      1187\n",
            "\n",
            "Micro F1: 96.8829\n",
            "Macro F1: 96.5057\n",
            "Weighted F1: 96.8955\n"
          ]
        }
      ],
      "source": [
        "plot_onfusion_matrix(model_ft)"
      ]
    }
  ],
  "metadata": {
    "kernelspec": {
      "display_name": "Python 3",
      "language": "python",
      "name": "python3"
    },
    "language_info": {
      "codemirror_mode": {
        "name": "ipython",
        "version": 3
      },
      "file_extension": ".py",
      "mimetype": "text/x-python",
      "name": "python",
      "nbconvert_exporter": "python",
      "pygments_lexer": "ipython3",
      "version": "3.9.7"
    },
    "papermill": {
      "default_parameters": {},
      "duration": 160.510243,
      "end_time": "2022-02-06T17:50:02.301773",
      "environment_variables": {},
      "exception": null,
      "input_path": "__notebook__.ipynb",
      "output_path": "__notebook__.ipynb",
      "parameters": {},
      "start_time": "2022-02-06T17:47:21.791530",
      "version": "2.3.3"
    },
    "colab": {
      "name": "Breast_cancer-vit-deit-94.ipynb",
      "provenance": [],
      "collapsed_sections": []
    },
    "accelerator": "GPU"
  },
  "nbformat": 4,
  "nbformat_minor": 5
}